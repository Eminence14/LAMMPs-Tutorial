{
  "nbformat": 4,
  "nbformat_minor": 0,
  "metadata": {
    "colab": {
      "provenance": [],
      "gpuType": "T4",
      "authorship_tag": "ABX9TyN387Oe3vzzJ//+K9/NcLuT",
      "include_colab_link": true
    },
    "kernelspec": {
      "name": "python3",
      "display_name": "Python 3"
    },
    "language_info": {
      "name": "python"
    },
    "accelerator": "GPU"
  },
  "cells": [
    {
      "cell_type": "markdown",
      "metadata": {
        "id": "view-in-github",
        "colab_type": "text"
      },
      "source": [
        "<a href=\"https://colab.research.google.com/github/Eminence14/LAMMPs-Tutorial/blob/main/LAMMPs_Tutorial.ipynb\" target=\"_parent\"><img src=\"https://colab.research.google.com/assets/colab-badge.svg\" alt=\"Open In Colab\"/></a>"
      ]
    },
    {
      "cell_type": "markdown",
      "source": [
        "## **Installing LAMMPS, starting server...**\n"
      ],
      "metadata": {
        "id": "Oa15AqAhioUt"
      }
    },
    {
      "cell_type": "code",
      "execution_count": null,
      "metadata": {
        "colab": {
          "base_uri": "https://localhost:8080/"
        },
        "collapsed": true,
        "id": "knbpiKwIMY8G",
        "outputId": "50563268-a743-4394-ce9e-04e1fcd8c796"
      },
      "outputs": [
        {
          "output_type": "stream",
          "name": "stdout",
          "text": [
            "Drive already mounted at content/drive; to attempt to forcibly remount, call drive.mount(\"content/drive\", force_remount=True).\n"
          ]
        }
      ],
      "source": [
        "from google.colab import drive\n",
        "import os\n",
        "\n",
        "# Create the directory if it doesn't exist\n",
        "if not os.path.exists('content/drive'):\n",
        "    os.makedirs('content/drive')\n",
        "\n",
        "drive.mount('content/drive')"
      ]
    },
    {
      "cell_type": "code",
      "source": [
        "%%bash\n",
        "#Default for free account: 1GPU and 2 CPU with 1TB HDD and 12GB RAM\n",
        "lscpu\n",
        "nvidia-smi"
      ],
      "metadata": {
        "colab": {
          "base_uri": "https://localhost:8080/"
        },
        "collapsed": true,
        "id": "XhYsngCMM3G4",
        "outputId": "eb441b9f-f03c-4233-96cc-16911e775fd5"
      },
      "execution_count": null,
      "outputs": [
        {
          "output_type": "stream",
          "name": "stdout",
          "text": [
            "Architecture:                         x86_64\n",
            "CPU op-mode(s):                       32-bit, 64-bit\n",
            "Address sizes:                        46 bits physical, 48 bits virtual\n",
            "Byte Order:                           Little Endian\n",
            "CPU(s):                               2\n",
            "On-line CPU(s) list:                  0,1\n",
            "Vendor ID:                            GenuineIntel\n",
            "Model name:                           Intel(R) Xeon(R) CPU @ 2.00GHz\n",
            "CPU family:                           6\n",
            "Model:                                85\n",
            "Thread(s) per core:                   2\n",
            "Core(s) per socket:                   1\n",
            "Socket(s):                            1\n",
            "Stepping:                             3\n",
            "BogoMIPS:                             4000.26\n",
            "Flags:                                fpu vme de pse tsc msr pae mce cx8 apic sep mtrr pge mca cmov pat pse36 clflush mmx fxsr sse sse2 ss ht syscall nx pdpe1gb rdtscp lm constant_tsc rep_good nopl xtopology nonstop_tsc cpuid tsc_known_freq pni pclmulqdq ssse3 fma cx16 pcid sse4_1 sse4_2 x2apic movbe popcnt aes xsave avx f16c rdrand hypervisor lahf_lm abm 3dnowprefetch invpcid_single ssbd ibrs ibpb stibp fsgsbase tsc_adjust bmi1 hle avx2 smep bmi2 erms invpcid rtm mpx avx512f avx512dq rdseed adx smap clflushopt clwb avx512cd avx512bw avx512vl xsaveopt xsavec xgetbv1 xsaves arat md_clear arch_capabilities\n",
            "Hypervisor vendor:                    KVM\n",
            "Virtualization type:                  full\n",
            "L1d cache:                            32 KiB (1 instance)\n",
            "L1i cache:                            32 KiB (1 instance)\n",
            "L2 cache:                             1 MiB (1 instance)\n",
            "L3 cache:                             38.5 MiB (1 instance)\n",
            "NUMA node(s):                         1\n",
            "NUMA node0 CPU(s):                    0,1\n",
            "Vulnerability Gather data sampling:   Not affected\n",
            "Vulnerability Itlb multihit:          Not affected\n",
            "Vulnerability L1tf:                   Mitigation; PTE Inversion\n",
            "Vulnerability Mds:                    Vulnerable; SMT Host state unknown\n",
            "Vulnerability Meltdown:               Vulnerable\n",
            "Vulnerability Mmio stale data:        Vulnerable\n",
            "Vulnerability Reg file data sampling: Not affected\n",
            "Vulnerability Retbleed:               Vulnerable\n",
            "Vulnerability Spec rstack overflow:   Not affected\n",
            "Vulnerability Spec store bypass:      Vulnerable\n",
            "Vulnerability Spectre v1:             Vulnerable: __user pointer sanitization and usercopy barriers only; no swapgs barriers\n",
            "Vulnerability Spectre v2:             Vulnerable; IBPB: disabled; STIBP: disabled; PBRSB-eIBRS: Not affected; BHI: Vulnerable\n",
            "Vulnerability Srbds:                  Not affected\n",
            "Vulnerability Tsx async abort:        Vulnerable\n",
            "Sat Sep  6 19:42:30 2025       \n",
            "+-----------------------------------------------------------------------------------------+\n",
            "| NVIDIA-SMI 550.54.15              Driver Version: 550.54.15      CUDA Version: 12.4     |\n",
            "|-----------------------------------------+------------------------+----------------------+\n",
            "| GPU  Name                 Persistence-M | Bus-Id          Disp.A | Volatile Uncorr. ECC |\n",
            "| Fan  Temp   Perf          Pwr:Usage/Cap |           Memory-Usage | GPU-Util  Compute M. |\n",
            "|                                         |                        |               MIG M. |\n",
            "|=========================================+========================+======================|\n",
            "|   0  Tesla T4                       Off |   00000000:00:04.0 Off |                    0 |\n",
            "| N/A   39C    P8              9W /   70W |       0MiB /  15360MiB |      0%      Default |\n",
            "|                                         |                        |                  N/A |\n",
            "+-----------------------------------------+------------------------+----------------------+\n",
            "                                                                                         \n",
            "+-----------------------------------------------------------------------------------------+\n",
            "| Processes:                                                                              |\n",
            "|  GPU   GI   CI        PID   Type   Process name                              GPU Memory |\n",
            "|        ID   ID                                                               Usage      |\n",
            "|=========================================================================================|\n",
            "|  No running processes found                                                             |\n",
            "+-----------------------------------------------------------------------------------------+\n"
          ]
        }
      ]
    },
    {
      "cell_type": "code",
      "source": [
        "!pip install -q condacolab\n",
        "import condacolab\n",
        "condacolab.install()"
      ],
      "metadata": {
        "colab": {
          "base_uri": "https://localhost:8080/"
        },
        "collapsed": true,
        "id": "AiLx3t_JNHjA",
        "outputId": "2df953cd-b4b7-4bf0-c1ca-c9f1ae6d2630"
      },
      "execution_count": null,
      "outputs": [
        {
          "output_type": "stream",
          "name": "stdout",
          "text": [
            "✨🍰✨ Everything looks OK!\n"
          ]
        }
      ]
    },
    {
      "cell_type": "code",
      "source": [
        "!conda install -c conda-forge lammps -y"
      ],
      "metadata": {
        "colab": {
          "base_uri": "https://localhost:8080/"
        },
        "collapsed": true,
        "id": "Id_H3antNmY-",
        "outputId": "b37f5ae4-5c33-4052-c6c8-357536549afc"
      },
      "execution_count": null,
      "outputs": [
        {
          "output_type": "stream",
          "name": "stdout",
          "text": [
            "Channels:\n",
            " - conda-forge\n",
            "Platform: linux-64\n",
            "Collecting package metadata (repodata.json): - \b\b\\ \b\b| \b\b/ \b\b- \b\b\\ \b\b| \b\b/ \b\b- \b\b\\ \b\b| \b\b/ \b\b- \b\b\\ \b\bdone\n",
            "Solving environment: / \b\b- \b\b\\ \b\b| \b\b/ \b\bdone\n",
            "\n",
            "\n",
            "==> WARNING: A newer version of conda exists. <==\n",
            "    current version: 24.11.3\n",
            "    latest version: 25.7.0\n",
            "\n",
            "Please update conda by running\n",
            "\n",
            "    $ conda update -n base -c conda-forge conda\n",
            "\n",
            "\n",
            "\n",
            "# All requested packages already installed.\n",
            "\n"
          ]
        }
      ]
    },
    {
      "cell_type": "code",
      "source": [
        "!lmp -h"
      ],
      "metadata": {
        "colab": {
          "base_uri": "https://localhost:8080/"
        },
        "collapsed": true,
        "id": "LCdZFVj9Obn3",
        "outputId": "88bedcec-5bf8-4061-932d-7903a703162e"
      },
      "execution_count": null,
      "outputs": [
        {
          "output_type": "stream",
          "name": "stdout",
          "text": [
            "\n",
            "Large-scale Atomic/Molecular Massively Parallel Simulator - 29 Aug 2024\n",
            "\n",
            "Usage example: lmp -var t 300 -echo screen -in in.alloy\n",
            "\n",
            "List of command line options supported by this LAMMPS executable:\n",
            "\n",
            "-echo none/screen/log/both  : echoing of input script (-e)\n",
            "-help                       : print this help message (-h)\n",
            "-in none/filename           : read input from file or stdin (default) (-i)\n",
            "-kokkos on/off ...          : turn KOKKOS mode on or off (-k)\n",
            "-log none/filename          : where to send log output (-l)\n",
            "-mdi '<mdi flags>'          : pass flags to the MolSSI Driver Interface\n",
            "-mpicolor color             : which exe in a multi-exe mpirun cmd (-m)\n",
            "-cite                       : select citation reminder style (-c)\n",
            "-nocite                     : disable citation reminder (-nc)\n",
            "-nonbuf                     : disable screen/logfile buffering (-nb)\n",
            "-package style ...          : invoke package command (-pk)\n",
            "-partition size1 size2 ...  : assign partition sizes (-p)\n",
            "-plog basename              : basename for partition logs (-pl)\n",
            "-pscreen basename           : basename for partition screens (-ps)\n",
            "-restart2data rfile dfile ... : convert restart to data file (-r2data)\n",
            "-restart2dump rfile dgroup dstyle dfile ... \n",
            "                            : convert restart to dump file (-r2dump)\n",
            "-restart2info rfile         : print info about restart rfile (-r2info)\n",
            "-reorder topology-specs     : processor reordering (-r)\n",
            "-screen none/filename       : where to send screen output (-sc)\n",
            "-skiprun                    : skip loops in run and minimize (-sr)\n",
            "-suffix gpu/intel/kk/opt/omp: style suffix to apply (-sf)\n",
            "-var varname value          : set index style variable (-v)\n",
            "\n",
            "OS: Linux \"Ubuntu 22.04.4 LTS\" 6.1.123+ x86_64\n",
            "\n",
            "Compiler: GNU C++ 14.3.0 with OpenMP 4.5\n",
            "C++ standard: C++11\n",
            "MPI v3.1: Open MPI v5.0.8, package: Open MPI conda@f95c6110a314 Distribution, ident: 5.0.8, repo rev: v5.0.8, May 30, 2025\n",
            "\n",
            "Accelerator configuration:\n",
            "\n",
            "OPENMP package API: OpenMP\n",
            "OPENMP package precision: double\n",
            "OpenMP standard: OpenMP 4.5\n",
            "\n",
            "FFT information:\n",
            "\n",
            "FFT precision  = double\n",
            "FFT engine  = mpiFFT\n",
            "FFT library = FFTW3 with threads\n",
            "\n",
            "Active compile time flags:\n",
            "\n",
            "-DLAMMPS_GZIP\n",
            "-DLAMMPS_PNG\n",
            "-DLAMMPS_JPEG\n",
            "-DLAMMPS_CURL\n",
            "-DLAMMPS_SMALLBIG\n",
            "sizeof(smallint): 32-bit\n",
            "sizeof(imageint): 32-bit\n",
            "sizeof(tagint):   32-bit\n",
            "sizeof(bigint):   64-bit\n",
            "\n",
            "Available compression formats:\n",
            "\n",
            "Extension: .gz     Command: gzip\n",
            "Extension: .bz2    Command: bzip2\n",
            "Extension: .zst    Command: zstd\n",
            "Extension: .xz     Command: xz\n",
            "Extension: .lzma   Command: xz\n",
            "Extension: .lz4    Command: lz4\n",
            "\n",
            "\n",
            "Installed packages:\n",
            "\n",
            "ASPHERE BODY BROWNIAN CLASS2 COLLOID COLVARS CORESHELL DIPOLE ELECTRODE \n",
            "EXTRA-COMPUTE EXTRA-DUMP EXTRA-FIX EXTRA-MOLECULE EXTRA-PAIR FEP GRANULAR H5MD \n",
            "KIM KSPACE MANYBODY MC MEAM MISC ML-HDNNP ML-IAP ML-PACE ML-SNAP MOLECULE \n",
            "NETCDF OPENMP OPT PERI PHONON PLUGIN PLUMED PYTHON REAXFF REPLICA RIGID SHOCK \n",
            "SRD USER-M3GNET USER-MLIP VORONOI \n",
            "\n",
            "List of individual style options included in this LAMMPS executable\n",
            "\n",
            "* Atom styles:\n",
            "\n",
            "angle           atomic          body            bond            charge          \n",
            "dipole          ellipsoid       full            hybrid          line            \n",
            "molecular       peri            sphere          template        tri             \n",
            "\n",
            "* Integrate styles:\n",
            "\n",
            "respa           respa/omp       verlet          verlet/split    \n",
            "\n",
            "* Minimize styles:\n",
            "\n",
            "cg              fire/old        fire            hftn            quickmin        \n",
            "sd              \n",
            "\n",
            "* Pair styles:\n",
            "\n",
            "mlip            adp             adp/omp         agni            agni/omp        \n",
            "airebo          airebo/morse    airebo/morse/omp                airebo/omp      \n",
            "atm             beck            beck/omp        body/nparticle  \n",
            "body/rounded/polygon            body/rounded/polyhedron         bop             \n",
            "born            born/coul/dsf   born/coul/dsf/cs                born/coul/long  \n",
            "born/coul/long/cs               born/coul/long/omp              born/coul/msm   \n",
            "born/coul/msm/omp               born/coul/wolf  born/coul/wolf/cs               \n",
            "born/coul/wolf/omp              born/gauss      born/omp        brownian        \n",
            "brownian/omp    brownian/poly   brownian/poly/omp               buck            \n",
            "buck/coul/cut   buck/coul/cut/omp               buck/coul/long  \n",
            "buck/coul/long/cs               buck/coul/long/omp              buck/coul/msm   \n",
            "buck/coul/msm/omp               buck/long/coul/long             \n",
            "buck/long/coul/long/omp         buck/mdf        buck/omp        colloid         \n",
            "colloid/omp     comb            comb3           comb/omp        cosine/squared  \n",
            "coul/cut        coul/cut/global coul/cut/global/omp             coul/cut/omp    \n",
            "coul/cut/soft   coul/cut/soft/omp               coul/debye      coul/debye/omp  \n",
            "coul/diel       coul/diel/omp   coul/dsf        coul/dsf/omp    coul/exclude    \n",
            "coul/long       coul/long/cs    coul/long/omp   coul/long/soft  \n",
            "coul/long/soft/omp              coul/msm        coul/msm/omp    coul/slater/cut \n",
            "coul/slater/long                coul/streitz    coul/wolf       coul/wolf/cs    \n",
            "coul/wolf/omp   meam/c          reax            reax/c          mesont/tpm      \n",
            "dsmc            e3b             eam             eam/alloy       eam/alloy/omp   \n",
            "eam/alloy/opt   eam/cd          eam/cd/old      eam/fs          eam/fs/omp      \n",
            "eam/fs/opt      eam/he          eam/omp         eam/opt         edip            \n",
            "edip/multi      edip/omp        eim             eim/omp         extep           \n",
            "gauss           gauss/cut       gauss/cut/omp   gauss/omp       gayberne        \n",
            "gayberne/omp    gran/hertz/history              gran/hertz/history/omp          \n",
            "gran/hooke      gran/hooke/history              gran/hooke/history/omp          \n",
            "gran/hooke/omp  granular        gw              gw/zbl          harmonic/cut    \n",
            "harmonic/cut/omp                hbond/dreiding/lj               \n",
            "hbond/dreiding/lj/omp           hbond/dreiding/morse            \n",
            "hbond/dreiding/morse/omp        hdnnp           hybrid          hybrid/omp      \n",
            "hybrid/molecular                hybrid/molecular/omp            hybrid/overlay  \n",
            "hybrid/overlay/omp              hybrid/scaled   hybrid/scaled/omp               \n",
            "kim             lcbop           lennard/mdf     line/lj         list            \n",
            "lj96/cut        lj96/cut/omp    lj/charmm/coul/charmm           \n",
            "lj/charmm/coul/charmm/implicit  lj/charmm/coul/charmm/implicit/omp              \n",
            "lj/charmm/coul/charmm/omp       lj/charmm/coul/long             \n",
            "lj/charmm/coul/long/omp         lj/charmm/coul/long/opt         \n",
            "lj/charmm/coul/long/soft        lj/charmm/coul/long/soft/omp    \n",
            "lj/charmm/coul/msm              lj/charmm/coul/msm/omp          \n",
            "lj/charmmfsw/coul/charmmfsh     lj/charmmfsw/coul/long          lj/class2       \n",
            "lj/class2/coul/cut              lj/class2/coul/cut/omp          \n",
            "lj/class2/coul/cut/soft         lj/class2/coul/long             \n",
            "lj/class2/coul/long/cs          lj/class2/coul/long/omp         \n",
            "lj/class2/coul/long/soft        lj/class2/omp   lj/class2/soft  lj/cubic        \n",
            "lj/cubic/omp    lj/cut          lj/cut/coul/cut lj/cut/coul/cut/omp             \n",
            "lj/cut/coul/cut/soft            lj/cut/coul/cut/soft/omp        \n",
            "lj/cut/coul/debye               lj/cut/coul/debye/omp           lj/cut/coul/dsf \n",
            "lj/cut/coul/dsf/omp             lj/cut/coul/long                \n",
            "lj/cut/coul/long/cs             lj/cut/coul/long/omp            \n",
            "lj/cut/coul/long/opt            lj/cut/coul/long/soft           \n",
            "lj/cut/coul/long/soft/omp       lj/cut/coul/msm lj/cut/coul/msm/omp             \n",
            "lj/cut/coul/wolf                lj/cut/coul/wolf/omp            \n",
            "lj/cut/dipole/cut               lj/cut/dipole/cut/omp           \n",
            "lj/cut/dipole/long              lj/cut/omp      lj/cut/opt      lj/cut/soft     \n",
            "lj/cut/soft/omp lj/cut/sphere   lj/cut/sphere/omp               lj/cut/tip4p/cut                \n",
            "lj/cut/tip4p/cut/omp            lj/cut/tip4p/long               \n",
            "lj/cut/tip4p/long/omp           lj/cut/tip4p/long/opt           \n",
            "lj/cut/tip4p/long/soft          lj/cut/tip4p/long/soft/omp      lj/expand       \n",
            "lj/expand/coul/long             lj/expand/omp   lj/expand/sphere                \n",
            "lj/expand/sphere/omp            lj/gromacs      lj/gromacs/coul/gromacs         \n",
            "lj/gromacs/coul/gromacs/omp     lj/gromacs/omp  lj/long/coul/long               \n",
            "lj/long/coul/long/omp           lj/long/coul/long/opt           \n",
            "lj/long/dipole/long             lj/long/tip4p/long              \n",
            "lj/long/tip4p/long/omp          lj/mdf          lj/relres       lj/relres/omp   \n",
            "lj/sf/dipole/sf lj/sf/dipole/sf/omp             lj/smooth       lj/smooth/linear                \n",
            "lj/sf           lj/smooth/linear/omp            lj/sf/omp       lj/smooth/omp   \n",
            "local/density   lubricate       lubricateU      lubricateU/poly lubricate/omp   \n",
            "lubricate/poly  lubricate/poly/omp              m3gnet          m3gnet/d3       \n",
            "meam            meam/ms         meam/spline     meam/spline/omp meam/sw/spline  \n",
            "mie/cut         mliap           momb            morse           morse/omp       \n",
            "morse/opt       morse/smooth/linear             morse/smooth/linear/omp         \n",
            "morse/soft      nb3b/harmonic   nb3b/screened   nm/cut          nm/cut/coul/cut \n",
            "nm/cut/coul/cut/omp             nm/cut/coul/long                \n",
            "nm/cut/coul/long/omp            nm/cut/omp      nm/cut/split    pace            \n",
            "pace/extrapolation              pedone          pedone/omp      peri/eps        \n",
            "peri/lps        peri/lps/omp    peri/pmb        peri/pmb/omp    peri/ves        \n",
            "polymorphic     python          reaxff          reaxff/omp      rebo            \n",
            "rebo/omp        rebomos         rebomos/omp     resquared       resquared/omp   \n",
            "snap            soft            soft/omp        srp             srp/react       \n",
            "sw              sw/angle/table  sw/mod          sw/mod/omp      sw/omp          \n",
            "table           table/omp       tersoff         tersoff/mod     tersoff/mod/c   \n",
            "tersoff/mod/c/omp               tersoff/mod/omp tersoff/omp     tersoff/table   \n",
            "tersoff/table/omp               tersoff/zbl     tersoff/zbl/omp threebody/table \n",
            "tip4p/cut       tip4p/cut/omp   tip4p/long      tip4p/long/omp  tip4p/long/soft \n",
            "tip4p/long/soft/omp             tracker         tri/lj          ufm             \n",
            "ufm/omp         ufm/opt         vashishta       vashishta/omp   vashishta/table \n",
            "vashishta/table/omp             wf/cut          ylz             yukawa          \n",
            "yukawa/colloid  yukawa/colloid/omp              yukawa/omp      zbl             \n",
            "zbl/omp         zero            \n",
            "\n",
            "* Bond styles:\n",
            "\n",
            "class2          class2/omp      fene            fene/expand     fene/expand/omp \n",
            "fene/nm         fene/omp        gaussian        gromos          gromos/omp      \n",
            "harmonic        harmonic/omp    harmonic/restrain               harmonic/shift  \n",
            "harmonic/shift/cut              harmonic/shift/cut/omp          \n",
            "harmonic/shift/omp              hybrid          morse           morse/omp       \n",
            "nonlinear       nonlinear/omp   quartic         quartic/omp     special         \n",
            "table           table/omp       zero            \n",
            "\n",
            "* Angle styles:\n",
            "\n",
            "charmm          charmm/omp      class2          class2/omp      cosine          \n",
            "cosine/delta    cosine/delta/omp                cosine/omp      cosine/periodic \n",
            "cosine/periodic/omp             cosine/shift    cosine/shift/exp                \n",
            "cosine/shift/exp/omp            cosine/shift/omp                cosine/squared  \n",
            "cosine/squared/omp              cosine/squared/restricted       \n",
            "cosine/squared/restricted/omp   dipole          dipole/omp      fourier         \n",
            "fourier/omp     fourier/simple  fourier/simple/omp              gaussian        \n",
            "harmonic        harmonic/omp    hybrid          quartic         quartic/omp     \n",
            "table           table/omp       zero            \n",
            "\n",
            "* Dihedral styles:\n",
            "\n",
            "charmm          charmm/omp      charmmfsw       class2          class2/omp      \n",
            "cosine/shift/exp                cosine/shift/exp/omp            \n",
            "cosine/squared/restricted       fourier         fourier/omp     harmonic        \n",
            "harmonic/omp    helix           helix/omp       hybrid          multi/harmonic  \n",
            "multi/harmonic/omp              nharmonic       nharmonic/omp   opls            \n",
            "opls/omp        quadratic       quadratic/omp   spherical       table           \n",
            "table/cut       table/omp       zero            \n",
            "\n",
            "* Improper styles:\n",
            "\n",
            "class2          class2/omp      cossq           cossq/omp       cvff            \n",
            "cvff/omp        distance        fourier         fourier/omp     harmonic        \n",
            "harmonic/omp    hybrid          ring            ring/omp        umbrella        \n",
            "umbrella/omp    zero            \n",
            "\n",
            "* KSpace styles:\n",
            "\n",
            "ewald           ewald/dipole    ewald/dipole/spin               ewald/disp      \n",
            "ewald/disp/dipole               ewald/electrode ewald/omp       msm             \n",
            "msm/cg          msm/cg/omp      msm/omp         pppm            pppm/cg         \n",
            "pppm/cg/omp     pppm/dipole     pppm/dipole/spin                pppm/disp       \n",
            "pppm/disp/omp   pppm/disp/tip4p pppm/disp/tip4p/omp             pppm/electrode  \n",
            "pppm/omp        pppm/stagger    pppm/tip4p      pppm/tip4p/omp  \n",
            "\n",
            "* Fix styles\n",
            "\n",
            "accelerate/cos  acks2/reax      acks2/reaxff    adapt           adapt/fep       \n",
            "add/heat        addforce        addtorque       alchemy         append/atoms    \n",
            "atom/swap       ave/atom        ave/chunk       ave/correlate   \n",
            "ave/correlate/long              ave/grid        ave/histo       ave/histo/weight                \n",
            "ave/time        aveforce        balance         bond/break      bond/create     \n",
            "bond/create/angle               bond/swap       box/relax       brownian        \n",
            "brownian/asphere                brownian/sphere charge/regulation               \n",
            "cmap            colvars         controller      damping/cundall deform          \n",
            "deform/pressure deposit         ave/spatial     ave/spatial/sphere              \n",
            "lb/pc           lb/rigid/pc/sphere              reax/c/bonds    reax/c/species  \n",
            "drag            dt/reset        efield          efield/tip4p    ehex            \n",
            "electrode/conp  electrode/conq  electrode/thermo                \n",
            "electron/stopping               electron/stopping/fit           enforce2d       \n",
            "evaporate       external        ffl             filter/corotate flow/gauss      \n",
            "freeze          gcmc            gld             gle             gravity         \n",
            "gravity/omp     grem            halt            heat            heat/flow       \n",
            "hyper/global    hyper/local     imd             indent          ipi             \n",
            "langevin        lineforce       mol/swap        momentum        momentum/chunk  \n",
            "move            msst            neb             nonaffine/displacement          \n",
            "nph             nph/asphere     nph/asphere/omp nph/body        nph/omp         \n",
            "nph/sphere      nph/sphere/omp  nphug           npt             npt/asphere     \n",
            "npt/asphere/omp npt/body        npt/cauchy      npt/omp         npt/sphere      \n",
            "npt/sphere/omp  numdiff         numdiff/virial  nve             nve/asphere     \n",
            "nve/asphere/noforce             nve/body        nve/limit       nve/line        \n",
            "nve/noforce     nve/omp         nve/sphere      nve/sphere/omp  nve/tri         \n",
            "nvk             nvt             nvt/asphere     nvt/asphere/omp nvt/body        \n",
            "nvt/omp         nvt/sllod       nvt/sllod/omp   nvt/sphere      nvt/sphere/omp  \n",
            "oneway          pafi            pair            phonon          pimd/langevin   \n",
            "pimd            pimd/nvt        planeforce      plumed          pour            \n",
            "press/berendsen press/langevin  print           propel/self     property/atom   \n",
            "python/invoke   python          python/move     qeq/comb        qeq/comb/omp    \n",
            "qeq/reaxff      qeq/reax        qeq/reaxff/omp  qeq/reax/omp    rattle          \n",
            "reaxff/bonds    reaxff/species  recenter        restrain        rhok            \n",
            "rigid           rigid/nph       rigid/nph/omp   rigid/nph/small rigid/npt       \n",
            "rigid/npt/omp   rigid/npt/small rigid/nve       rigid/nve/omp   rigid/nve/small \n",
            "rigid/nvt       rigid/nvt/omp   rigid/nvt/small rigid/omp       rigid/small     \n",
            "rigid/small/omp setforce        sgcmc           shake           smd             \n",
            "spring          spring/chunk    spring/rg       spring/self     srd             \n",
            "store/force     store/state     temp/berendsen  temp/csld       temp/csvr       \n",
            "temp/rescale    tfmc            thermal/conductivity            ti/spring       \n",
            "tmd             ttm             ttm/grid        ttm/mod         tune/kspace     \n",
            "vector          viscosity       viscous         viscous/sphere  \n",
            "wall/body/polygon               wall/body/polyhedron            wall/colloid    \n",
            "wall/ees        wall/flow       wall/gran       wall/gran/region                \n",
            "wall/harmonic   wall/lj1043     wall/lj126      wall/lj93       wall/morse      \n",
            "wall/piston     wall/reflect    wall/reflect/stochastic         wall/region     \n",
            "wall/region/ees wall/srd        wall/table      widom           \n",
            "\n",
            "* Compute styles:\n",
            "\n",
            "ackland/atom    adf             aggregate/atom  angle           angle/local     \n",
            "angmom/chunk    ave/sphere/atom basal/atom      body/local      bond            \n",
            "bond/local      born/matrix     centro/atom     centroid/stress/atom            \n",
            "chunk/atom      chunk/spread/atom               cluster/atom    cna/atom        \n",
            "cnp/atom        com             com/chunk       composition/atom                \n",
            "contact/atom    coord/atom      count/type      damage/atom     mesont          \n",
            "dihedral        dihedral/local  dilatation/atom dipole          dipole/chunk    \n",
            "dipole/tip4p    dipole/tip4p/chunk              displace/atom   efield/wolf/atom                \n",
            "entropy/atom    erotate/asphere erotate/rigid   erotate/sphere  \n",
            "erotate/sphere/atom             event/displace  fabric          fep             \n",
            "fep/ta          fragment/atom   global/atom     group/group     gyration        \n",
            "gyration/chunk  gyration/shape  gyration/shape/chunk            heat/flux       \n",
            "hexorder/atom   hma             improper        improper/local  inertia/chunk   \n",
            "ke              ke/atom         ke/rigid        mliap           momentum        \n",
            "msd             msd/chunk       msd/nongauss    omega/chunk     orientorder/atom                \n",
            "pace            pair            pair/local      pe              pe/atom         \n",
            "plasticity/atom pressure        pressure/alchemy                property/atom   \n",
            "property/chunk  property/grid   property/local  rattlers/atom   rdf             \n",
            "reaxff/atom     reduce          reduce/chunk    reduce/region   rigid/local     \n",
            "slcsa/atom      slice           sna/atom        sna/grid        sna/grid/local  \n",
            "snad/atom       snap            snav/atom       stress/atom     stress/cartesian                \n",
            "stress/cylinder pressure/cylinder               stress/mop      \n",
            "stress/mop/profile              stress/spherical                temp            \n",
            "temp/asphere    temp/body       temp/chunk      temp/com        temp/cs         \n",
            "temp/deform     temp/partial    temp/profile    temp/ramp       temp/region     \n",
            "temp/rotate     temp/sphere     ti              torque/chunk    vacf            \n",
            "vcm/chunk       viscosity/cos   voronoi/atom    \n",
            "\n",
            "* Region styles:\n",
            "\n",
            "block           cone            cylinder        ellipsoid       intersect       \n",
            "plane           prism           sphere          union           \n",
            "\n",
            "* Dump styles:\n",
            "\n",
            "atom            cfg             custom          dcd             atom/mpiio      \n",
            "cfg/mpiio       custom/mpiio    xyz/mpiio       grid            grid/vtk        \n",
            "h5md            image           local           movie           netcdf          \n",
            "netcdf/mpiio    xtc             xyz             yaml            \n",
            "\n",
            "* Command styles\n",
            "\n",
            "angle_write     balance         change_box      create_atoms    create_bonds    \n",
            "create_box      delete_atoms    delete_bonds    box             kim_init        \n",
            "kim_interactions                kim_param       kim_property    kim_query       \n",
            "reset_ids       reset_atom_ids  reset_mol_ids   message         server          \n",
            "dihedral_write  displace_atoms  dynamical_matrix                hyper           \n",
            "info            kim             minimize        neb             plugin          \n",
            "prd             read_data       read_dump       read_restart    replicate       \n",
            "rerun           run             set             tad             temper          \n",
            "temper/grem     temper/npt      third_order     velocity        write_coeff     \n",
            "write_data      write_dump      write_restart   \n",
            "\n"
          ]
        }
      ]
    },
    {
      "cell_type": "markdown",
      "source": [
        "## **Changing Directory**"
      ],
      "metadata": {
        "id": "fO3PMk7IjCsx"
      }
    },
    {
      "cell_type": "code",
      "source": [
        "cd /content/content/drive/MyDrive/Colab Files/Al Uniaxial Tensile Loading"
      ],
      "metadata": {
        "colab": {
          "base_uri": "https://localhost:8080/"
        },
        "id": "eqwpS1WWPYGW",
        "outputId": "a138f025-c52d-478e-a264-f8bc2d6d5b92"
      },
      "execution_count": null,
      "outputs": [
        {
          "output_type": "stream",
          "name": "stdout",
          "text": [
            "/content/content/drive/MyDrive/Colab Files/Al Uniaxial Tensile Loading\n"
          ]
        }
      ]
    },
    {
      "cell_type": "code",
      "source": [
        "ls"
      ],
      "metadata": {
        "colab": {
          "base_uri": "https://localhost:8080/"
        },
        "id": "8B74-Rw3QLot",
        "outputId": "db3cba82-5a8f-451b-f719-a92a36b7d38c"
      },
      "execution_count": null,
      "outputs": [
        {
          "output_type": "stream",
          "name": "stdout",
          "text": [
            "in.tensile.aluminium\n"
          ]
        }
      ]
    },
    {
      "cell_type": "markdown",
      "source": [
        "## **Running the Script!**"
      ],
      "metadata": {
        "id": "VKoIOyIEjNno"
      }
    },
    {
      "cell_type": "code",
      "source": [
        "!wget https://www.ctcms.nist.gov/potentials/Download/1999--Mishin-Y-Farkas-D-Mehl-M-J-Papaconstantopoulos-D-A--Al /2/Al99.eam"
      ],
      "metadata": {
        "colab": {
          "base_uri": "https://localhost:8080/"
        },
        "id": "7aANbNCWj-dE",
        "outputId": "eefa86d6-7b69-4258-bb62-a070441a0399"
      },
      "execution_count": null,
      "outputs": [
        {
          "output_type": "stream",
          "name": "stdout",
          "text": [
            "--2025-09-06 19:57:12--  https://www.ctcms.nist.gov/potentials/Download/1999--Mishin-Y-Farkas-D-Mehl-M-J-Papaconstantopoulos-D-A--Al\n",
            "Resolving www.ctcms.nist.gov (www.ctcms.nist.gov)... 104.18.33.194, 172.64.154.62, 2a06:98c1:3109::ac40:9a3e, ...\n",
            "Connecting to www.ctcms.nist.gov (www.ctcms.nist.gov)|104.18.33.194|:443... connected.\n",
            "HTTP request sent, awaiting response... 301 Moved Permanently\n",
            "Location: http://www.ctcms.nist.gov/potentials/Download/1999--Mishin-Y-Farkas-D-Mehl-M-J-Papaconstantopoulos-D-A--Al/ [following]\n",
            "URL transformed to HTTPS due to an HSTS policy\n",
            "--2025-09-06 19:57:12--  https://www.ctcms.nist.gov/potentials/Download/1999--Mishin-Y-Farkas-D-Mehl-M-J-Papaconstantopoulos-D-A--Al/\n",
            "Reusing existing connection to www.ctcms.nist.gov:443.\n",
            "HTTP request sent, awaiting response... 200 OK\n",
            "Length: unspecified [text/html]\n",
            "Saving to: ‘1999--Mishin-Y-Farkas-D-Mehl-M-J-Papaconstantopoulos-D-A--Al’\n",
            "\n",
            "1999--Mishin-Y-Fark     [ <=>                ]     185  --.-KB/s    in 0s      \n",
            "\n",
            "2025-09-06 19:57:12 (1.03 MB/s) - ‘1999--Mishin-Y-Farkas-D-Mehl-M-J-Papaconstantopoulos-D-A--Al’ saved [185]\n",
            "\n",
            "/2/Al99.eam: Scheme missing.\n",
            "FINISHED --2025-09-06 19:57:12--\n",
            "Total wall clock time: 0.5s\n",
            "Downloaded: 1 files, 185 in 0s (1.03 MB/s)\n"
          ]
        }
      ]
    },
    {
      "cell_type": "code",
      "source": [
        "ls\n"
      ],
      "metadata": {
        "colab": {
          "base_uri": "https://localhost:8080/"
        },
        "id": "NX0Ab8N1k2kI",
        "outputId": "19351c4f-e3bc-47a2-eaf3-c565423abc94"
      },
      "execution_count": null,
      "outputs": [
        {
          "output_type": "stream",
          "name": "stdout",
          "text": [
            "Al.meam  in.tensile_aluminium  library.meam  log.lammps\n"
          ]
        }
      ]
    },
    {
      "cell_type": "code",
      "source": [
        "!mpirun --allow-run-as-root -n 1 lmp -in in.tensile_aluminium"
      ],
      "metadata": {
        "colab": {
          "base_uri": "https://localhost:8080/"
        },
        "id": "7SprTIx5QMjQ",
        "outputId": "b4aad6fb-ca10-4051-a1af-cff061178871",
        "collapsed": true
      },
      "execution_count": null,
      "outputs": [
        {
          "output_type": "stream",
          "name": "stdout",
          "text": [
            "LAMMPS (29 Aug 2024)\n",
            "OMP_NUM_THREADS environment is not set. Defaulting to 1 thread. (src/comm.cpp:98)\n",
            "  using 1 OpenMP thread(s) per MPI task\n",
            "Lattice spacing in x,y,z = 4.05 4.05 4.05\n",
            "Created orthogonal box = (0 0 0) to (40.5 40.5 40.5)\n",
            "  1 by 1 by 1 MPI processor grid\n",
            "Created 4000 atoms\n",
            "  using lattice units in orthogonal box = (0 0 0) to (40.5 40.5 40.5)\n",
            "  create_atoms CPU = 0.001 seconds\n",
            "Neighbor list info ...\n",
            "  update: every = 1 steps, delay = 0 steps, check = yes\n",
            "  max neighbors/atom: 2000, page size: 100000\n",
            "  master list distance cutoff = 7\n",
            "  ghost atom cutoff = 7\n",
            "  binsize = 3.5, bins = 12 12 12\n",
            "  3 neighbor lists, perpetual/occasional/extra = 2 1 0\n",
            "  (1) pair meam, perpetual\n",
            "      attributes: full, newton on\n",
            "      pair build: full/bin/atomonly\n",
            "      stencil: full/bin/3d\n",
            "      bin: standard\n",
            "  (2) pair meam, perpetual, half/full from (1)\n",
            "      attributes: half, newton on\n",
            "      pair build: halffull/newton\n",
            "      stencil: none\n",
            "      bin: none\n",
            "  (3) compute centro/atom, occasional, copy from (1)\n",
            "      attributes: full, newton on\n",
            "      pair build: copy\n",
            "      stencil: none\n",
            "      bin: none\n",
            "Setting up Verlet run ...\n",
            "  Unit style    : metal\n",
            "  Current step  : 0\n",
            "  Time step     : 0.001\n",
            "Per MPI rank memory allocation (min/avg/max) = 15.01 | 15.01 | 15.01 Mbytes\n",
            "   Step           Lx             Ly             Lz           Press           Pxx            Pyy            Pzz           PotEng          Temp     \n",
            "         0   40.5           40.5           40.5           2494.9564      2445.8233      2533.4873      2505.5587     -13439.96       300          \n",
            "      1000   40.701484      40.701484      40.701484      15.530161     -2.673997       118.96312     -69.69864      -13356.461      148.97867    \n",
            "      2000   40.729619      40.729619      40.729619     -522.13711     -609.78685     -458.91483     -497.70964     -13350.502      159.60139    \n",
            "      3000   40.736071      40.736071      40.736071      59.2992        4.0925171      94.34778       79.457303     -13343.059      167.90014    \n",
            "      4000   40.761301      40.761301      40.761301     -317.54264     -178.16227     -421.41128     -353.05439     -13335.952      177.06768    \n",
            "      5000   40.766873      40.766873      40.766873     -12.738197     -170.16329      76.394267      55.554432     -13331.383      191.17098    \n",
            "      6000   40.785762      40.785762      40.785762      42.642847      96.38697       8.1288023      23.41277      -13325.005      201.69448    \n",
            "      7000   40.801791      40.801791      40.801791      207.63034      294.80028      292.56475      35.525985     -13317.169      209.03834    \n",
            "      8000   40.822856      40.822856      40.822856      71.519633      218.90355      79.67152      -84.016166     -13310.534      218.19361    \n",
            "      9000   40.846016      40.846016      40.846016     -140.13228     -240.95884     -44.701566     -134.73644     -13303.807      226.42392    \n",
            "     10000   40.866521      40.866521      40.866521     -506.03053     -624.97398     -505.19897     -387.91865     -13299.001      237.45242    \n",
            "     11000   40.870696      40.870696      40.870696      11.655585     -57.40331      -21.676079      114.04614     -13294.347      247.68628    \n",
            "     12000   40.886289      40.886289      40.886289      145.50846      220.62912      235.14741     -19.251167     -13286.89       251.31675    \n",
            "     13000   40.901885      40.901885      40.901885     -179.34505     -231.62254     -242.04133     -64.371266     -13284.547      263.54273    \n",
            "     14000   40.915437      40.915437      40.915437     -79.826432     -132.84304     -247.45662      140.82036     -13277.992      266.15952    \n",
            "     15000   40.929327      40.929327      40.929327     -66.678624     -126.47095      32.266319     -105.83125     -13272.502      269.31849    \n",
            "     16000   40.937817      40.937817      40.937817     -105.31879     -48.044669      109.0507      -376.96241     -13271.521      279.80749    \n",
            "     17000   40.954964      40.954964      40.954964     -622.54594     -324.40252     -713.43299     -829.80231     -13269.499      286.77702    \n",
            "     18000   40.957081      40.957081      40.957081     -170.9511      -244.37926     -263.07373     -5.4003225     -13265.319      288.07294    \n"
          ]
        }
      ]
    },
    {
      "cell_type": "code",
      "source": [],
      "metadata": {
        "id": "GIBDGs-iQTi5"
      },
      "execution_count": null,
      "outputs": []
    }
  ]
}